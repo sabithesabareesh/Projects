{
 "cells": [
  {
   "cell_type": "code",
   "execution_count": 39,
   "id": "04445d2e",
   "metadata": {},
   "outputs": [],
   "source": [
    "from bs4 import BeautifulSoup\n",
    "import requests, openpyxl"
   ]
  },
  {
   "cell_type": "code",
   "execution_count": 48,
   "id": "77e10472",
   "metadata": {},
   "outputs": [],
   "source": [
    "import requests\n",
    "from bs4 import BeautifulSoup\n",
    "import openpyxl\n",
    "\n",
    "url = \"https://www.imdb.com/chart/top/\"\n",
    "\n",
    "try:\n",
    "    response = requests.get(url)\n",
    "    resp = BeautifulSoup(response.text, 'html.parser')\n",
    "    mov = resp.find('tbody', class_=\"lister-list\").find_all(\"tr\")\n",
    "\n",
    "    excel = openpyxl.Workbook()\n",
    "    sheet = excel.active\n",
    "    sheet.title = \"IMDB 250 LIST\"\n",
    "    sheet.append(['Rank', \"Movie Name\", \"Year of release\", \"IMDB Rating\"])\n",
    "\n",
    "    for movie in mov:\n",
    "        movie_rank = movie.find(\"td\", class_=\"titleColumn\").get_text(strip=True).split(\".\")[0]\n",
    "        movie_name = movie.find(\"td\", class_=\"titleColumn\").a.text\n",
    "        movie_year = movie.find(\"td\", class_=\"titleColumn\").span.text.replace(\"(\", \"\").replace(\")\", \"\")\n",
    "        rating = movie.find(\"td\", class_=\"ratingColumn imdbRating\").strong.text\n",
    "\n",
    "        sheet.append([int(movie_rank), movie_name, int(movie_year), float(rating)])\n",
    "\n",
    "    excel.save(\"IMDB.xlsx\")\n",
    "\n",
    "except Exception as e:\n",
    "    print(e)\n"
   ]
  },
  {
   "cell_type": "code",
   "execution_count": 41,
   "id": "3157d61a",
   "metadata": {},
   "outputs": [],
   "source": []
  },
  {
   "cell_type": "code",
   "execution_count": null,
   "id": "bd63854b",
   "metadata": {},
   "outputs": [],
   "source": []
  }
 ],
 "metadata": {
  "kernelspec": {
   "display_name": "Python 3 (ipykernel)",
   "language": "python",
   "name": "python3"
  },
  "language_info": {
   "codemirror_mode": {
    "name": "ipython",
    "version": 3
   },
   "file_extension": ".py",
   "mimetype": "text/x-python",
   "name": "python",
   "nbconvert_exporter": "python",
   "pygments_lexer": "ipython3",
   "version": "3.9.12"
  }
 },
 "nbformat": 4,
 "nbformat_minor": 5
}
